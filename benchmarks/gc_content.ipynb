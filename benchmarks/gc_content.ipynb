{
 "cells": [
  {
   "cell_type": "markdown",
   "metadata": {},
   "source": [
    "# Analyzing the GC-Content of codon-optimized sequence\n",
    "GC-Content is the percentage of nitrogenous bases in a DNA or RNA molecule that are either guanine or cytosine. This mearsure is often cited as being important for applications of molecular biology, genomics, and systematics. We leverage it here to assess the similarity in sequence optimization between *Optipyzer* and other codon optimiation tools, namely Integrated DNA Technology's (IDT).\n",
    "\n",
    "We identified 55 functional protein sequences that were randomly generated (Kefee and Szostak, 2001). These sequences were originally expressed in *Escherichia coli*, as such, they were optimized for expression in *Homo sapiens*. They were optimized on two platforms: IDT, and *Optipyzer*. After analysis, the sequences were analyzed for their GC-Content.\n",
    "\n",
    "## IDT Optimization\n",
    "To utilize IDT's codon optimization you must first register. Once complete, you can access their web-interface. The optimization was ran with the following parameters using their **bulk input**:\n",
    "- Sequence type: Amino Acids\n",
    "- Product type: Gene\n",
    "- Organism: Homo sapiens\n",
    "- Delimiter: FASTA\n",
    "\n",
    "The sequences were pasted into their tool and submitted. Once complete, the sequences were extracted using a console script. See [this](js/extract_idt_sequences.js) JavaScript file. The script was pasted into the console directly. The resulting file was formatted into a FASTA file.\n",
    "\n",
    "## Optipyzer Optimization\n",
    "The optipyzer package will be utilized to optimize the sequences:"
   ]
  },
  {
   "cell_type": "code",
   "execution_count": 2,
   "metadata": {},
   "outputs": [
    {
     "name": "stdout",
     "output_type": "stream",
     "text": [
      "Requirement already satisfied: optipyzer in /Users/nathanleroy/projects.nosync/optipyzer/.venv/lib/python3.10/site-packages (0.4.1)\n",
      "Requirement already satisfied: bipython in /Users/nathanleroy/projects.nosync/optipyzer/.venv/lib/python3.10/site-packages (0.1.2)\n",
      "Requirement already satisfied: tqdm in /Users/nathanleroy/projects.nosync/optipyzer/.venv/lib/python3.10/site-packages (4.64.1)\n",
      "Requirement already satisfied: pandas in /Users/nathanleroy/projects.nosync/optipyzer/.venv/lib/python3.10/site-packages (1.5.2)\n",
      "Collecting biopython\n",
      "  Downloading biopython-1.80.tar.gz (17.9 MB)\n",
      "\u001b[2K     \u001b[90m━━━━━━━━━━━━━━━━━━━━━━━━━━━━━━━━━━━━━━━━\u001b[0m \u001b[32m17.9/17.9 MB\u001b[0m \u001b[31m59.4 MB/s\u001b[0m eta \u001b[36m0:00:00\u001b[0m00:01\u001b[0m00:01\u001b[0m\n",
      "\u001b[?25h  Preparing metadata (setup.py) ... \u001b[?25ldone\n",
      "\u001b[?25hRequirement already satisfied: pydantic in /Users/nathanleroy/projects.nosync/optipyzer/.venv/lib/python3.10/site-packages (from optipyzer) (1.10.4)\n",
      "Requirement already satisfied: requests in /Users/nathanleroy/projects.nosync/optipyzer/.venv/lib/python3.10/site-packages (from optipyzer) (2.28.1)\n",
      "Requirement already satisfied: Pygments>=1.6 in /Users/nathanleroy/projects.nosync/optipyzer/.venv/lib/python3.10/site-packages (from bipython) (2.13.0)\n",
      "Requirement already satisfied: bpython>=0.12 in /Users/nathanleroy/projects.nosync/optipyzer/.venv/lib/python3.10/site-packages (from bipython) (0.23)\n",
      "Requirement already satisfied: ipython>=1.0 in /Users/nathanleroy/projects.nosync/optipyzer/.venv/lib/python3.10/site-packages (from bipython) (8.7.0)\n",
      "Requirement already satisfied: pyzmq>=2.1.11 in /Users/nathanleroy/projects.nosync/optipyzer/.venv/lib/python3.10/site-packages (from bipython) (24.0.1)\n",
      "Requirement already satisfied: urwid>=1.1.1 in /Users/nathanleroy/projects.nosync/optipyzer/.venv/lib/python3.10/site-packages (from bipython) (2.1.2)\n",
      "Requirement already satisfied: python-dateutil>=2.8.1 in /Users/nathanleroy/projects.nosync/optipyzer/.venv/lib/python3.10/site-packages (from pandas) (2.8.2)\n",
      "Requirement already satisfied: numpy>=1.21.0 in /Users/nathanleroy/projects.nosync/optipyzer/.venv/lib/python3.10/site-packages (from pandas) (1.24.1)\n",
      "Requirement already satisfied: pytz>=2020.1 in /Users/nathanleroy/projects.nosync/optipyzer/.venv/lib/python3.10/site-packages (from pandas) (2022.7)\n",
      "Requirement already satisfied: cwcwidth in /Users/nathanleroy/projects.nosync/optipyzer/.venv/lib/python3.10/site-packages (from bpython>=0.12->bipython) (0.1.8)\n",
      "Requirement already satisfied: greenlet in /Users/nathanleroy/projects.nosync/optipyzer/.venv/lib/python3.10/site-packages (from bpython>=0.12->bipython) (2.0.1)\n",
      "Requirement already satisfied: pyxdg in /Users/nathanleroy/projects.nosync/optipyzer/.venv/lib/python3.10/site-packages (from bpython>=0.12->bipython) (0.28)\n",
      "Requirement already satisfied: curtsies>=0.4.0 in /Users/nathanleroy/projects.nosync/optipyzer/.venv/lib/python3.10/site-packages (from bpython>=0.12->bipython) (0.4.1)\n",
      "Requirement already satisfied: matplotlib-inline in /Users/nathanleroy/projects.nosync/optipyzer/.venv/lib/python3.10/site-packages (from ipython>=1.0->bipython) (0.1.6)\n",
      "Requirement already satisfied: traitlets>=5 in /Users/nathanleroy/projects.nosync/optipyzer/.venv/lib/python3.10/site-packages (from ipython>=1.0->bipython) (5.8.0)\n",
      "Requirement already satisfied: stack-data in /Users/nathanleroy/projects.nosync/optipyzer/.venv/lib/python3.10/site-packages (from ipython>=1.0->bipython) (0.6.2)\n",
      "Requirement already satisfied: appnope in /Users/nathanleroy/projects.nosync/optipyzer/.venv/lib/python3.10/site-packages (from ipython>=1.0->bipython) (0.1.3)\n",
      "Requirement already satisfied: jedi>=0.16 in /Users/nathanleroy/projects.nosync/optipyzer/.venv/lib/python3.10/site-packages (from ipython>=1.0->bipython) (0.18.2)\n",
      "Requirement already satisfied: decorator in /Users/nathanleroy/projects.nosync/optipyzer/.venv/lib/python3.10/site-packages (from ipython>=1.0->bipython) (5.1.1)\n",
      "Requirement already satisfied: pexpect>4.3 in /Users/nathanleroy/projects.nosync/optipyzer/.venv/lib/python3.10/site-packages (from ipython>=1.0->bipython) (4.8.0)\n",
      "Requirement already satisfied: backcall in /Users/nathanleroy/projects.nosync/optipyzer/.venv/lib/python3.10/site-packages (from ipython>=1.0->bipython) (0.2.0)\n",
      "Requirement already satisfied: prompt-toolkit<3.1.0,>=3.0.11 in /Users/nathanleroy/projects.nosync/optipyzer/.venv/lib/python3.10/site-packages (from ipython>=1.0->bipython) (3.0.36)\n",
      "Requirement already satisfied: pickleshare in /Users/nathanleroy/projects.nosync/optipyzer/.venv/lib/python3.10/site-packages (from ipython>=1.0->bipython) (0.7.5)\n",
      "Requirement already satisfied: six>=1.5 in /Users/nathanleroy/projects.nosync/optipyzer/.venv/lib/python3.10/site-packages (from python-dateutil>=2.8.1->pandas) (1.16.0)\n",
      "Requirement already satisfied: typing-extensions>=4.2.0 in /Users/nathanleroy/projects.nosync/optipyzer/.venv/lib/python3.10/site-packages (from pydantic->optipyzer) (4.4.0)\n",
      "Requirement already satisfied: certifi>=2017.4.17 in /Users/nathanleroy/projects.nosync/optipyzer/.venv/lib/python3.10/site-packages (from requests->optipyzer) (2022.12.7)\n",
      "Requirement already satisfied: idna<4,>=2.5 in /Users/nathanleroy/projects.nosync/optipyzer/.venv/lib/python3.10/site-packages (from requests->optipyzer) (3.4)\n",
      "Requirement already satisfied: charset-normalizer<3,>=2 in /Users/nathanleroy/projects.nosync/optipyzer/.venv/lib/python3.10/site-packages (from requests->optipyzer) (2.1.1)\n",
      "Requirement already satisfied: urllib3<1.27,>=1.21.1 in /Users/nathanleroy/projects.nosync/optipyzer/.venv/lib/python3.10/site-packages (from requests->optipyzer) (1.26.13)\n",
      "Requirement already satisfied: blessed>=1.5 in /Users/nathanleroy/projects.nosync/optipyzer/.venv/lib/python3.10/site-packages (from curtsies>=0.4.0->bpython>=0.12->bipython) (1.19.1)\n",
      "Requirement already satisfied: parso<0.9.0,>=0.8.0 in /Users/nathanleroy/projects.nosync/optipyzer/.venv/lib/python3.10/site-packages (from jedi>=0.16->ipython>=1.0->bipython) (0.8.3)\n",
      "Requirement already satisfied: ptyprocess>=0.5 in /Users/nathanleroy/projects.nosync/optipyzer/.venv/lib/python3.10/site-packages (from pexpect>4.3->ipython>=1.0->bipython) (0.7.0)\n",
      "Requirement already satisfied: wcwidth in /Users/nathanleroy/projects.nosync/optipyzer/.venv/lib/python3.10/site-packages (from prompt-toolkit<3.1.0,>=3.0.11->ipython>=1.0->bipython) (0.2.5)\n",
      "Requirement already satisfied: asttokens>=2.1.0 in /Users/nathanleroy/projects.nosync/optipyzer/.venv/lib/python3.10/site-packages (from stack-data->ipython>=1.0->bipython) (2.2.1)\n",
      "Requirement already satisfied: pure-eval in /Users/nathanleroy/projects.nosync/optipyzer/.venv/lib/python3.10/site-packages (from stack-data->ipython>=1.0->bipython) (0.2.2)\n",
      "Requirement already satisfied: executing>=1.2.0 in /Users/nathanleroy/projects.nosync/optipyzer/.venv/lib/python3.10/site-packages (from stack-data->ipython>=1.0->bipython) (1.2.0)\n",
      "Using legacy 'setup.py install' for biopython, since package 'wheel' is not installed.\n",
      "Installing collected packages: biopython\n",
      "  Running setup.py install for biopython ... \u001b[?25ldone\n",
      "\u001b[?25hSuccessfully installed biopython-1.80\n",
      "\n",
      "\u001b[1m[\u001b[0m\u001b[34;49mnotice\u001b[0m\u001b[1;39;49m]\u001b[0m\u001b[39;49m A new release of pip available: \u001b[0m\u001b[31;49m22.2.1\u001b[0m\u001b[39;49m -> \u001b[0m\u001b[32;49m22.3.1\u001b[0m\n",
      "\u001b[1m[\u001b[0m\u001b[34;49mnotice\u001b[0m\u001b[1;39;49m]\u001b[0m\u001b[39;49m To update, run: \u001b[0m\u001b[32;49mpip install --upgrade pip\u001b[0m\n"
     ]
    }
   ],
   "source": [
    "# install dependencies\n",
    "%pip install optipyzer bipython tqdm pandas biopython"
   ]
  },
  {
   "cell_type": "code",
   "execution_count": 3,
   "metadata": {},
   "outputs": [],
   "source": [
    "# read in sequences\n",
    "from Bio import SeqIO\n",
    "\n",
    "records = list(SeqIO.parse(\"inputs/keefe_szostak.fasta\", \"fasta\"))"
   ]
  },
  {
   "cell_type": "code",
   "execution_count": 12,
   "metadata": {},
   "outputs": [
    {
     "name": "stderr",
     "output_type": "stream",
     "text": [
      "100%|██████████| 56/56 [01:19<00:00,  1.42s/it]\n"
     ]
    }
   ],
   "source": [
    "from optipyzer.api import API\n",
    "from tqdm import tqdm\n",
    "\n",
    "SPECIES=\"human\"\n",
    "optimizer = API()\n",
    "\n",
    "# run optimization\n",
    "optimized_sequences = {}\n",
    "for record in tqdm(records):\n",
    "  result = optimizer.optimize(\n",
    "    str(record.seq),\n",
    "    {\n",
    "      SPECIES: 1\n",
    "    },\n",
    "    seq_type=\"protein\",\n",
    "    seed=99\n",
    "  )\n",
    "  optimized_sequences[record.id] = result"
   ]
  },
  {
   "cell_type": "code",
   "execution_count": 6,
   "metadata": {},
   "outputs": [
    {
     "name": "stderr",
     "output_type": "stream",
     "text": [
      "100%|██████████| 56/56 [00:00<00:00, 113578.83it/s]\n"
     ]
    }
   ],
   "source": [
    "# write to file\n",
    "out_path = \"results\"\n",
    "file = \"keefe_szostak_OPTIPYZER.fasta\"\n",
    "with open(f\"{out_path}/{file}\", 'w+') as fh:\n",
    "  for id in tqdm(list(optimized_sequences.keys())):\n",
    "    fh.write(f\">{id}\\n\")\n",
    "    fh.write(optimized_sequences[id]['optimized_sd'] + \"\\n\")"
   ]
  },
  {
   "cell_type": "code",
   "execution_count": 1,
   "metadata": {},
   "outputs": [],
   "source": [
    "# read in sequences\n",
    "from Bio import SeqIO\n",
    "\n",
    "idt_records = list(SeqIO.parse(\"results/keefe_szostak_IDT.fasta\", \"fasta\"))\n",
    "optipyzer_records = list(SeqIO.parse(\"results/keefe_szostak_OPTIPYZER.fasta\", \"fasta\"))\n",
    "jcat_records = list(SeqIO.parse(\"results/keefe_szostak_JCAT.fasta\", \"fasta\"))"
   ]
  },
  {
   "cell_type": "code",
   "execution_count": 3,
   "metadata": {},
   "outputs": [],
   "source": [
    "pairwise_gc_content = []\n",
    "for idt, opti, jcat in zip(idt_records, optipyzer_records, jcat_records):\n",
    "  idt_seq, optipyzer_seq, jcat_seq = (str(idt.seq).lower(), str(opti.seq).lower(), str(jcat.seq).lower())\n",
    "  idt_gc = (idt_seq.count('g') + idt_seq.count('c'))/len(idt_seq)\n",
    "  optipyzer_gc = (optipyzer_seq.count('g') + optipyzer_seq.count('c'))/len(idt_seq)\n",
    "  jcat_gc = (jcat_seq.count('g') + jcat_seq.count('c'))/len(idt_seq)\n",
    "  pairwise_gc_content.append({\n",
    "    'id': idt.id,\n",
    "    'idt_gc': idt_gc,\n",
    "    'optipyzer_gc': optipyzer_gc,\n",
    "    'jcat_gc': jcat_gc,\n",
    "    'squared_diff': (idt_gc - optipyzer_gc)**2\n",
    "  })"
   ]
  },
  {
   "cell_type": "code",
   "execution_count": 4,
   "metadata": {},
   "outputs": [],
   "source": [
    "import pandas as pd\n",
    "df = pd.DataFrame(pairwise_gc_content)\n",
    "df.to_csv(\"results/pairwise_gc_content.csv\")"
   ]
  }
 ],
 "metadata": {
  "kernelspec": {
   "display_name": ".venv",
   "language": "python",
   "name": "python3"
  },
  "language_info": {
   "codemirror_mode": {
    "name": "ipython",
    "version": 3
   },
   "file_extension": ".py",
   "mimetype": "text/x-python",
   "name": "python",
   "nbconvert_exporter": "python",
   "pygments_lexer": "ipython3",
   "version": "3.10.6 (main, Oct 21 2022, 12:48:39) [Clang 13.1.6 (clang-1316.0.21.2)]"
  },
  "orig_nbformat": 4,
  "vscode": {
   "interpreter": {
    "hash": "e893b79b4ec768329d9fdfea89da451e46cf5420422538704ef46f1ed53e5568"
   }
  }
 },
 "nbformat": 4,
 "nbformat_minor": 2
}
