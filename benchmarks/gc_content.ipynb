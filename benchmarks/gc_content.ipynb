{
 "cells": [
  {
   "cell_type": "markdown",
   "metadata": {},
   "source": [
    "# Analyzing the GC-Content of codon-optimized sequence\n",
    "GC-Content is the percentage of nitrogenous bases in a DNA or RNA molecule that are either guanine or cytosine. This mearsure is often cited as being important for applications of molecular biology, genomics, and systematics. We leverage it here to assess the similarity in sequence optimization between *Optipyzer* and other codon optimiation tools, namely Integrated DNA Technology's (IDT).\n",
    "\n",
    "We identified 55 functional protein sequences that were randomly generated (Kefee and Szostak, 2001). These sequences were originally expressed in *Escherichia coli*, as such, they were optimized for expression in *Homo sapiens*. They were optimized on two platforms: IDT, and *Optipyzer*. After analysis, the sequences were analyzed for their GC-Content.\n",
    "\n",
    "## IDT Optimization\n",
    "To utilize IDT's codon optimization you must first register. Once complete, you can access their web-interface. The optimization was ran with the following parameters using their **bulk input**:\n",
    "- Sequence type: Amino Acids\n",
    "- Product type: Gene\n",
    "- Organism: Homo sapiens\n",
    "- Delimiter: FASTA\n",
    "\n",
    "The sequences were pasted into their tool and submitted. Once complete, the sequences were extracted using a console script. See [this](js/extract_idt_sequences.js) JavaScript file. The script was pasted into the console directly. The resulting file was formatted into a FASTA file.\n",
    "\n",
    "## Optipyzer Optimization\n",
    "The optipyzer package will be utilized to optimize the sequences:"
   ]
  },
  {
   "cell_type": "code",
   "execution_count": 33,
   "metadata": {},
   "outputs": [
    {
     "name": "stderr",
     "output_type": "stream",
     "text": [
      "6776.86s - pydevd: Sending message related to process being replaced timed-out after 5 seconds\n"
     ]
    },
    {
     "name": "stdout",
     "output_type": "stream",
     "text": [
      "Requirement already satisfied: optipyzer in /Users/nathanleroy/miniforge3/lib/python3.10/site-packages (0.4.0)\n",
      "Collecting bipython\n",
      "  Downloading bipython-0.1.2.tar.gz (32 kB)\n",
      "  Preparing metadata (setup.py) ... \u001b[?25ldone\n",
      "\u001b[?25hRequirement already satisfied: tqdm in /Users/nathanleroy/miniforge3/lib/python3.10/site-packages (4.64.1)\n",
      "Requirement already satisfied: pandas in /Users/nathanleroy/miniforge3/lib/python3.10/site-packages (1.5.0)\n",
      "Requirement already satisfied: pydantic in /Users/nathanleroy/miniforge3/lib/python3.10/site-packages (from optipyzer) (1.10.2)\n",
      "Requirement already satisfied: requests in /Users/nathanleroy/miniforge3/lib/python3.10/site-packages (from optipyzer) (2.28.1)\n",
      "Requirement already satisfied: sqlalchemy in /Users/nathanleroy/miniforge3/lib/python3.10/site-packages (from optipyzer) (1.4.44)\n",
      "Requirement already satisfied: Pygments>=1.6 in /Users/nathanleroy/miniforge3/lib/python3.10/site-packages (from bipython) (2.13.0)\n",
      "Collecting urwid>=1.1.1\n",
      "  Downloading urwid-2.1.2.tar.gz (634 kB)\n",
      "\u001b[2K     \u001b[90m━━━━━━━━━━━━━━━━━━━━━━━━━━━━━━━━━━━━━\u001b[0m \u001b[32m634.6/634.6 kB\u001b[0m \u001b[31m186.4 kB/s\u001b[0m eta \u001b[36m0:00:00\u001b[0m00:01\u001b[0m00:01\u001b[0m\n",
      "\u001b[?25h  Preparing metadata (setup.py) ... \u001b[?25ldone\n",
      "\u001b[?25hCollecting bpython>=0.12\n",
      "  Downloading bpython-0.23-py3-none-any.whl (194 kB)\n",
      "\u001b[2K     \u001b[90m━━━━━━━━━━━━━━━━━━━━━━━━━━━━━━━━━━━━━\u001b[0m \u001b[32m194.7/194.7 kB\u001b[0m \u001b[31m186.3 kB/s\u001b[0m eta \u001b[36m0:00:00\u001b[0ma \u001b[36m0:00:01\u001b[0m\n",
      "\u001b[?25hRequirement already satisfied: pyzmq>=2.1.11 in /Users/nathanleroy/miniforge3/lib/python3.10/site-packages (from bipython) (24.0.0)\n",
      "Requirement already satisfied: ipython>=1.0 in /Users/nathanleroy/miniforge3/lib/python3.10/site-packages (from bipython) (8.5.0)\n",
      "Requirement already satisfied: python-dateutil>=2.8.1 in /Users/nathanleroy/miniforge3/lib/python3.10/site-packages (from pandas) (2.8.2)\n",
      "Requirement already satisfied: numpy>=1.21.0 in /Users/nathanleroy/miniforge3/lib/python3.10/site-packages (from pandas) (1.23.2)\n",
      "Requirement already satisfied: pytz>=2020.1 in /Users/nathanleroy/miniforge3/lib/python3.10/site-packages (from pandas) (2022.2.1)\n",
      "Collecting curtsies>=0.4.0\n",
      "  Downloading curtsies-0.4.1.tar.gz (53 kB)\n",
      "\u001b[2K     \u001b[90m━━━━━━━━━━━━━━━━━━━━━━━━━━━━━━━━━━━━━━━\u001b[0m \u001b[32m53.6/53.6 kB\u001b[0m \u001b[31m240.7 kB/s\u001b[0m eta \u001b[36m0:00:00\u001b[0ma \u001b[36m0:00:01\u001b[0m\n",
      "\u001b[?25h  Installing build dependencies ... \u001b[?25ldone\n",
      "\u001b[?25h  Getting requirements to build wheel ... \u001b[?25ldone\n",
      "\u001b[?25h  Preparing metadata (pyproject.toml) ... \u001b[?25ldone\n",
      "\u001b[?25hCollecting cwcwidth\n",
      "  Downloading cwcwidth-0.1.8.tar.gz (38 kB)\n",
      "  Installing build dependencies ... \u001b[?25ldone\n",
      "\u001b[?25h  Getting requirements to build wheel ... \u001b[?25ldone\n",
      "\u001b[?25h  Preparing metadata (pyproject.toml) ... \u001b[?25ldone\n",
      "\u001b[?25hCollecting pyxdg\n",
      "  Downloading pyxdg-0.28-py2.py3-none-any.whl (49 kB)\n",
      "\u001b[2K     \u001b[90m━━━━━━━━━━━━━━━━━━━━━━━━━━━━━━━━━━━━━━━\u001b[0m \u001b[32m49.5/49.5 kB\u001b[0m \u001b[31m451.9 kB/s\u001b[0m eta \u001b[36m0:00:00\u001b[0m \u001b[36m0:00:01\u001b[0m\n",
      "\u001b[?25hCollecting greenlet\n",
      "  Downloading greenlet-2.0.1.tar.gz (163 kB)\n",
      "\u001b[2K     \u001b[90m━━━━━━━━━━━━━━━━━━━━━━━━━━━━━━━━━━━━━\u001b[0m \u001b[32m163.8/163.8 kB\u001b[0m \u001b[31m377.8 kB/s\u001b[0m eta \u001b[36m0:00:00\u001b[0ma \u001b[36m0:00:01\u001b[0m\n",
      "\u001b[?25h  Preparing metadata (setup.py) ... \u001b[?25ldone\n",
      "\u001b[?25hRequirement already satisfied: decorator in /Users/nathanleroy/miniforge3/lib/python3.10/site-packages (from ipython>=1.0->bipython) (5.1.1)\n",
      "Requirement already satisfied: jedi>=0.16 in /Users/nathanleroy/miniforge3/lib/python3.10/site-packages (from ipython>=1.0->bipython) (0.18.1)\n",
      "Requirement already satisfied: matplotlib-inline in /Users/nathanleroy/miniforge3/lib/python3.10/site-packages (from ipython>=1.0->bipython) (0.1.6)\n",
      "Requirement already satisfied: pickleshare in /Users/nathanleroy/miniforge3/lib/python3.10/site-packages (from ipython>=1.0->bipython) (0.7.5)\n",
      "Requirement already satisfied: prompt-toolkit<3.1.0,>3.0.1 in /Users/nathanleroy/miniforge3/lib/python3.10/site-packages (from ipython>=1.0->bipython) (3.0.31)\n",
      "Requirement already satisfied: traitlets>=5 in /Users/nathanleroy/miniforge3/lib/python3.10/site-packages (from ipython>=1.0->bipython) (5.4.0)\n",
      "Requirement already satisfied: appnope in /Users/nathanleroy/miniforge3/lib/python3.10/site-packages (from ipython>=1.0->bipython) (0.1.3)\n",
      "Requirement already satisfied: pexpect>4.3 in /Users/nathanleroy/miniforge3/lib/python3.10/site-packages (from ipython>=1.0->bipython) (4.8.0)\n",
      "Requirement already satisfied: backcall in /Users/nathanleroy/miniforge3/lib/python3.10/site-packages (from ipython>=1.0->bipython) (0.2.0)\n",
      "Requirement already satisfied: stack-data in /Users/nathanleroy/miniforge3/lib/python3.10/site-packages (from ipython>=1.0->bipython) (0.5.0)\n",
      "Requirement already satisfied: six>=1.5 in /Users/nathanleroy/miniforge3/lib/python3.10/site-packages (from python-dateutil>=2.8.1->pandas) (1.16.0)\n",
      "Requirement already satisfied: typing-extensions>=4.1.0 in /Users/nathanleroy/miniforge3/lib/python3.10/site-packages (from pydantic->optipyzer) (4.3.0)\n",
      "Requirement already satisfied: urllib3<1.27,>=1.21.1 in /Users/nathanleroy/miniforge3/lib/python3.10/site-packages (from requests->optipyzer) (1.26.11)\n",
      "Requirement already satisfied: certifi>=2017.4.17 in /Users/nathanleroy/miniforge3/lib/python3.10/site-packages (from requests->optipyzer) (2022.9.24)\n",
      "Requirement already satisfied: charset-normalizer<3,>=2 in /Users/nathanleroy/miniforge3/lib/python3.10/site-packages (from requests->optipyzer) (2.1.1)\n",
      "Requirement already satisfied: idna<4,>=2.5 in /Users/nathanleroy/miniforge3/lib/python3.10/site-packages (from requests->optipyzer) (3.4)\n",
      "Collecting blessed>=1.5\n",
      "  Downloading blessed-1.19.1-py2.py3-none-any.whl (58 kB)\n",
      "\u001b[2K     \u001b[90m━━━━━━━━━━━━━━━━━━━━━━━━━━━━━━━━━━━━━━━\u001b[0m \u001b[32m58.0/58.0 kB\u001b[0m \u001b[31m384.8 kB/s\u001b[0m eta \u001b[36m0:00:00\u001b[0ma \u001b[36m0:00:01\u001b[0m\n",
      "\u001b[?25hRequirement already satisfied: parso<0.9.0,>=0.8.0 in /Users/nathanleroy/miniforge3/lib/python3.10/site-packages (from jedi>=0.16->ipython>=1.0->bipython) (0.8.3)\n",
      "Requirement already satisfied: ptyprocess>=0.5 in /Users/nathanleroy/miniforge3/lib/python3.10/site-packages (from pexpect>4.3->ipython>=1.0->bipython) (0.7.0)\n",
      "Requirement already satisfied: wcwidth in /Users/nathanleroy/miniforge3/lib/python3.10/site-packages (from prompt-toolkit<3.1.0,>3.0.1->ipython>=1.0->bipython) (0.2.5)\n",
      "Requirement already satisfied: executing in /Users/nathanleroy/miniforge3/lib/python3.10/site-packages (from stack-data->ipython>=1.0->bipython) (1.0.0)\n",
      "Requirement already satisfied: pure-eval in /Users/nathanleroy/miniforge3/lib/python3.10/site-packages (from stack-data->ipython>=1.0->bipython) (0.2.2)\n",
      "Requirement already satisfied: asttokens in /Users/nathanleroy/miniforge3/lib/python3.10/site-packages (from stack-data->ipython>=1.0->bipython) (2.0.8)\n",
      "Building wheels for collected packages: bipython, urwid, curtsies, cwcwidth, greenlet\n",
      "  Building wheel for bipython (setup.py) ... \u001b[?25ldone\n",
      "\u001b[?25h  Created wheel for bipython: filename=bipython-0.1.2-py3-none-any.whl size=35076 sha256=22fd98570296f1b90affede3f081a0b531e82f739fd6a2973872717b4162fd09\n",
      "  Stored in directory: /Users/nathanleroy/Library/Caches/pip/wheels/10/5d/c9/2fd3f3e430675aa4158a61f9d55c7978a91fc5e89e5ded39d6\n",
      "  Building wheel for urwid (setup.py) ... \u001b[?25ldone\n",
      "\u001b[?25h  Created wheel for urwid: filename=urwid-2.1.2-cp310-cp310-macosx_11_0_arm64.whl size=240779 sha256=901788de3612819e0ed1d6f28748a1c99c241e430b46128d76ef274734a72d9f\n",
      "  Stored in directory: /Users/nathanleroy/Library/Caches/pip/wheels/05/3d/85/cde786c07f333509d868e5024d5ed8c70519fa1b8e8c66ec6c\n",
      "  Building wheel for curtsies (pyproject.toml) ... \u001b[?25ldone\n",
      "\u001b[?25h  Created wheel for curtsies: filename=curtsies-0.4.1-py3-none-any.whl size=35409 sha256=fcee4a7deedd42c5d90cbac6e0a18d1a73bb05ab69197323779343dc0dd3764b\n",
      "  Stored in directory: /Users/nathanleroy/Library/Caches/pip/wheels/c3/b2/e0/47f836122d8968ef94ebf91987dd371c126c9c4025c2c32c69\n",
      "  Building wheel for cwcwidth (pyproject.toml) ... \u001b[?25ldone\n",
      "\u001b[?25h  Created wheel for cwcwidth: filename=cwcwidth-0.1.8-cp310-cp310-macosx_11_0_arm64.whl size=15107 sha256=bf165bac0a937268d1106822cbe0124f813f7e9481ef60e4e8e709fbcc8af2d0\n",
      "  Stored in directory: /Users/nathanleroy/Library/Caches/pip/wheels/ca/11/58/1e44bbcff4c3fb3315e2e5acbc79b5d1783ca41b74251f93db\n",
      "  Building wheel for greenlet (setup.py) ... \u001b[?25ldone\n",
      "\u001b[?25h  Created wheel for greenlet: filename=greenlet-2.0.1-cp310-cp310-macosx_11_0_arm64.whl size=192397 sha256=cdf84a0ed8a8db961cff052d6efc8195e0576b0c3c17af3fbaea440f5b3094be\n",
      "  Stored in directory: /Users/nathanleroy/Library/Caches/pip/wheels/d7/d1/21/1c8c8920d0c9bf1d864e36795d1f0016c10d9ecdcba15fe5d2\n",
      "Successfully built bipython urwid curtsies cwcwidth greenlet\n",
      "Installing collected packages: urwid, pyxdg, greenlet, cwcwidth, blessed, curtsies, bpython, bipython\n",
      "Successfully installed bipython-0.1.2 blessed-1.19.1 bpython-0.23 curtsies-0.4.1 cwcwidth-0.1.8 greenlet-2.0.1 pyxdg-0.28 urwid-2.1.2\n"
     ]
    }
   ],
   "source": [
    "# install dependencies\n",
    "!pip install optipyzer bipython tqdm pandas"
   ]
  },
  {
   "cell_type": "code",
   "execution_count": 24,
   "metadata": {},
   "outputs": [],
   "source": [
    "# read in sequences\n",
    "from Bio import SeqIO\n",
    "\n",
    "records = list(SeqIO.parse(\"inputs/keefe_szostak.fasta\", \"fasta\"))"
   ]
  },
  {
   "cell_type": "code",
   "execution_count": 15,
   "metadata": {},
   "outputs": [
    {
     "name": "stderr",
     "output_type": "stream",
     "text": [
      "100%|██████████| 56/56 [01:40<00:00,  1.79s/it]\n"
     ]
    }
   ],
   "source": [
    "from optipyzer.api import api\n",
    "from tqdm import tqdm\n",
    "\n",
    "SPECIES_ID='122563'\n",
    "optimizer = api()\n",
    "\n",
    "# run optimization\n",
    "optimized_sequences = {}\n",
    "for record in tqdm(records):\n",
    "  result = optimizer.optimize(\n",
    "    str(record.seq),\n",
    "    {\n",
    "      SPECIES_ID: 1\n",
    "    },\n",
    "    seq_type=\"protein\",\n",
    "    seed=99\n",
    "  )\n",
    "  optimized_sequences[record.id] = result"
   ]
  },
  {
   "cell_type": "code",
   "execution_count": 23,
   "metadata": {},
   "outputs": [
    {
     "name": "stderr",
     "output_type": "stream",
     "text": [
      "100%|██████████| 56/56 [00:00<00:00, 114297.34it/s]\n"
     ]
    }
   ],
   "source": [
    "# write to file\n",
    "out_path = \"results\"\n",
    "file = \"keefe_szostak_OPTIPYZER.fasta\"\n",
    "with open(f\"{out_path}/{file}\", 'w+') as fh:\n",
    "  for id in tqdm(list(optimized_sequences.keys())):\n",
    "    fh.write(f\">{id}\\n\")\n",
    "    fh.write(optimized_sequences[id]['optimized_sd'] + \"\\n\")"
   ]
  },
  {
   "cell_type": "code",
   "execution_count": 25,
   "metadata": {},
   "outputs": [],
   "source": [
    "# read in sequences\n",
    "from Bio import SeqIO\n",
    "\n",
    "idt_records = list(SeqIO.parse(\"results/keefe_szostak_IDT.fasta\", \"fasta\"))\n",
    "optipyzer_records = list(SeqIO.parse(\"results/keefe_szostak_OPTIPYZER.fasta\", \"fasta\"))"
   ]
  },
  {
   "cell_type": "code",
   "execution_count": 31,
   "metadata": {},
   "outputs": [],
   "source": [
    "pairwise_gc_content = []\n",
    "for idt, opti in zip(idt_records, optipyzer_records):\n",
    "  idt_seq, optipyzer_seq = (str(idt.seq).lower(), str(opti.seq).lower())\n",
    "  idt_gc = (idt_seq.count('g') + idt_seq.count('c'))/len(idt_seq)\n",
    "  optipyzer_gc = (optipyzer_seq.count('g') + optipyzer_seq.count('c'))/len(idt_seq)\n",
    "  pairwise_gc_content.append({\n",
    "    'id': idt.id,\n",
    "    'idt_gc': idt_gc,\n",
    "    'optipyzer_gc': optipyzer_gc,\n",
    "    'squared_diff': (idt_gc - optipyzer_gc)**2\n",
    "  })"
   ]
  },
  {
   "cell_type": "code",
   "execution_count": 38,
   "metadata": {},
   "outputs": [],
   "source": [
    "import pandas as pd\n",
    "df = pd.DataFrame(pairwise_gc_content)\n",
    "df.to_csv(\"results/pairwise_gc_condtent.csv\")"
   ]
  }
 ],
 "metadata": {
  "kernelspec": {
   "display_name": "Python 3.10.6 ('base')",
   "language": "python",
   "name": "python3"
  },
  "language_info": {
   "codemirror_mode": {
    "name": "ipython",
    "version": 3
   },
   "file_extension": ".py",
   "mimetype": "text/x-python",
   "name": "python",
   "nbconvert_exporter": "python",
   "pygments_lexer": "ipython3",
   "version": "3.10.6"
  },
  "orig_nbformat": 4,
  "vscode": {
   "interpreter": {
    "hash": "8acb94078f62d2f0a52090f5cb7491c1dee506636b455a3b7b92174385bdc695"
   }
  }
 },
 "nbformat": 4,
 "nbformat_minor": 2
}
