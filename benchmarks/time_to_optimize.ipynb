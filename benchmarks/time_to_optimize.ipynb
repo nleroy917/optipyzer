{
 "cells": [
  {
   "attachments": {},
   "cell_type": "markdown",
   "metadata": {},
   "source": [
    "# Analysis of the Computational Time for Codon Optimization with Optipyzer and Others\n",
    "As sequencing costs decrease, and our research becomes more complex, the computational time to process molecular biological data becomes more and more important. To this end, we seeked to conduct an analysis of the time to perform the codon optimization algorithm between optipyzer and others. Similar to the GC content, we decided to compare *optipyzer* to IDT as it is the only software capable of processing many sequences at once.\n",
    "\n",
    "For *optipyzer* we can just use python to time to codon optimization natively. With IDT, since it is browser-only, we will utilize the developer tools inside the browser to time the network requests for optimization.\n",
    "\n",
    "We identified 55 functional protein sequences that were randomly generated (Kefee and Szostak, 2001). These sequences were originally expressed in *Escherichia coli*, as such, they were optimized for expression in *Homo sapiens*. They were optimized on two platforms: IDT, and *Optipyzer*. The time to optimize these sequences was recorded after 5 optimization attempts."
   ]
  },
  {
   "cell_type": "code",
   "execution_count": 1,
   "metadata": {},
   "outputs": [
    {
     "name": "stdout",
     "output_type": "stream",
     "text": [
      "Requirement already satisfied: optipyzer in /Users/nathanleroy/projects.nosync/optipyzer/.venv/lib/python3.10/site-packages (0.4.1)\n",
      "Requirement already satisfied: bipython in /Users/nathanleroy/projects.nosync/optipyzer/.venv/lib/python3.10/site-packages (0.1.2)\n",
      "Requirement already satisfied: tqdm in /Users/nathanleroy/projects.nosync/optipyzer/.venv/lib/python3.10/site-packages (4.64.1)\n",
      "Requirement already satisfied: pandas in /Users/nathanleroy/projects.nosync/optipyzer/.venv/lib/python3.10/site-packages (1.5.2)\n",
      "Requirement already satisfied: biopython in /Users/nathanleroy/projects.nosync/optipyzer/.venv/lib/python3.10/site-packages (1.80)\n",
      "Requirement already satisfied: requests in /Users/nathanleroy/projects.nosync/optipyzer/.venv/lib/python3.10/site-packages (from optipyzer) (2.28.1)\n",
      "Requirement already satisfied: pydantic in /Users/nathanleroy/projects.nosync/optipyzer/.venv/lib/python3.10/site-packages (from optipyzer) (1.10.4)\n",
      "Requirement already satisfied: pyzmq>=2.1.11 in /Users/nathanleroy/projects.nosync/optipyzer/.venv/lib/python3.10/site-packages (from bipython) (24.0.1)\n",
      "Requirement already satisfied: Pygments>=1.6 in /Users/nathanleroy/projects.nosync/optipyzer/.venv/lib/python3.10/site-packages (from bipython) (2.13.0)\n",
      "Requirement already satisfied: bpython>=0.12 in /Users/nathanleroy/projects.nosync/optipyzer/.venv/lib/python3.10/site-packages (from bipython) (0.23)\n",
      "Requirement already satisfied: urwid>=1.1.1 in /Users/nathanleroy/projects.nosync/optipyzer/.venv/lib/python3.10/site-packages (from bipython) (2.1.2)\n",
      "Requirement already satisfied: ipython>=1.0 in /Users/nathanleroy/projects.nosync/optipyzer/.venv/lib/python3.10/site-packages (from bipython) (8.7.0)\n",
      "Requirement already satisfied: pytz>=2020.1 in /Users/nathanleroy/projects.nosync/optipyzer/.venv/lib/python3.10/site-packages (from pandas) (2022.7)\n",
      "Requirement already satisfied: python-dateutil>=2.8.1 in /Users/nathanleroy/projects.nosync/optipyzer/.venv/lib/python3.10/site-packages (from pandas) (2.8.2)\n",
      "Requirement already satisfied: numpy>=1.21.0 in /Users/nathanleroy/projects.nosync/optipyzer/.venv/lib/python3.10/site-packages (from pandas) (1.24.1)\n",
      "Requirement already satisfied: cwcwidth in /Users/nathanleroy/projects.nosync/optipyzer/.venv/lib/python3.10/site-packages (from bpython>=0.12->bipython) (0.1.8)\n",
      "Requirement already satisfied: pyxdg in /Users/nathanleroy/projects.nosync/optipyzer/.venv/lib/python3.10/site-packages (from bpython>=0.12->bipython) (0.28)\n",
      "Requirement already satisfied: greenlet in /Users/nathanleroy/projects.nosync/optipyzer/.venv/lib/python3.10/site-packages (from bpython>=0.12->bipython) (2.0.1)\n",
      "Requirement already satisfied: curtsies>=0.4.0 in /Users/nathanleroy/projects.nosync/optipyzer/.venv/lib/python3.10/site-packages (from bpython>=0.12->bipython) (0.4.1)\n",
      "Requirement already satisfied: stack-data in /Users/nathanleroy/projects.nosync/optipyzer/.venv/lib/python3.10/site-packages (from ipython>=1.0->bipython) (0.6.2)\n",
      "Requirement already satisfied: decorator in /Users/nathanleroy/projects.nosync/optipyzer/.venv/lib/python3.10/site-packages (from ipython>=1.0->bipython) (5.1.1)\n",
      "Requirement already satisfied: backcall in /Users/nathanleroy/projects.nosync/optipyzer/.venv/lib/python3.10/site-packages (from ipython>=1.0->bipython) (0.2.0)\n",
      "Requirement already satisfied: jedi>=0.16 in /Users/nathanleroy/projects.nosync/optipyzer/.venv/lib/python3.10/site-packages (from ipython>=1.0->bipython) (0.18.2)\n",
      "Requirement already satisfied: matplotlib-inline in /Users/nathanleroy/projects.nosync/optipyzer/.venv/lib/python3.10/site-packages (from ipython>=1.0->bipython) (0.1.6)\n",
      "Requirement already satisfied: appnope in /Users/nathanleroy/projects.nosync/optipyzer/.venv/lib/python3.10/site-packages (from ipython>=1.0->bipython) (0.1.3)\n",
      "Requirement already satisfied: prompt-toolkit<3.1.0,>=3.0.11 in /Users/nathanleroy/projects.nosync/optipyzer/.venv/lib/python3.10/site-packages (from ipython>=1.0->bipython) (3.0.36)\n",
      "Requirement already satisfied: pickleshare in /Users/nathanleroy/projects.nosync/optipyzer/.venv/lib/python3.10/site-packages (from ipython>=1.0->bipython) (0.7.5)\n",
      "Requirement already satisfied: traitlets>=5 in /Users/nathanleroy/projects.nosync/optipyzer/.venv/lib/python3.10/site-packages (from ipython>=1.0->bipython) (5.8.0)\n",
      "Requirement already satisfied: pexpect>4.3 in /Users/nathanleroy/projects.nosync/optipyzer/.venv/lib/python3.10/site-packages (from ipython>=1.0->bipython) (4.8.0)\n",
      "Requirement already satisfied: six>=1.5 in /Users/nathanleroy/projects.nosync/optipyzer/.venv/lib/python3.10/site-packages (from python-dateutil>=2.8.1->pandas) (1.16.0)\n",
      "Requirement already satisfied: typing-extensions>=4.2.0 in /Users/nathanleroy/projects.nosync/optipyzer/.venv/lib/python3.10/site-packages (from pydantic->optipyzer) (4.4.0)\n",
      "Requirement already satisfied: idna<4,>=2.5 in /Users/nathanleroy/projects.nosync/optipyzer/.venv/lib/python3.10/site-packages (from requests->optipyzer) (3.4)\n",
      "Requirement already satisfied: urllib3<1.27,>=1.21.1 in /Users/nathanleroy/projects.nosync/optipyzer/.venv/lib/python3.10/site-packages (from requests->optipyzer) (1.26.13)\n",
      "Requirement already satisfied: certifi>=2017.4.17 in /Users/nathanleroy/projects.nosync/optipyzer/.venv/lib/python3.10/site-packages (from requests->optipyzer) (2022.12.7)\n",
      "Requirement already satisfied: charset-normalizer<3,>=2 in /Users/nathanleroy/projects.nosync/optipyzer/.venv/lib/python3.10/site-packages (from requests->optipyzer) (2.1.1)\n",
      "Requirement already satisfied: blessed>=1.5 in /Users/nathanleroy/projects.nosync/optipyzer/.venv/lib/python3.10/site-packages (from curtsies>=0.4.0->bpython>=0.12->bipython) (1.19.1)\n",
      "Requirement already satisfied: parso<0.9.0,>=0.8.0 in /Users/nathanleroy/projects.nosync/optipyzer/.venv/lib/python3.10/site-packages (from jedi>=0.16->ipython>=1.0->bipython) (0.8.3)\n",
      "Requirement already satisfied: ptyprocess>=0.5 in /Users/nathanleroy/projects.nosync/optipyzer/.venv/lib/python3.10/site-packages (from pexpect>4.3->ipython>=1.0->bipython) (0.7.0)\n",
      "Requirement already satisfied: wcwidth in /Users/nathanleroy/projects.nosync/optipyzer/.venv/lib/python3.10/site-packages (from prompt-toolkit<3.1.0,>=3.0.11->ipython>=1.0->bipython) (0.2.5)\n",
      "Requirement already satisfied: asttokens>=2.1.0 in /Users/nathanleroy/projects.nosync/optipyzer/.venv/lib/python3.10/site-packages (from stack-data->ipython>=1.0->bipython) (2.2.1)\n",
      "Requirement already satisfied: executing>=1.2.0 in /Users/nathanleroy/projects.nosync/optipyzer/.venv/lib/python3.10/site-packages (from stack-data->ipython>=1.0->bipython) (1.2.0)\n",
      "Requirement already satisfied: pure-eval in /Users/nathanleroy/projects.nosync/optipyzer/.venv/lib/python3.10/site-packages (from stack-data->ipython>=1.0->bipython) (0.2.2)\n",
      "\n",
      "\u001b[1m[\u001b[0m\u001b[34;49mnotice\u001b[0m\u001b[1;39;49m]\u001b[0m\u001b[39;49m A new release of pip available: \u001b[0m\u001b[31;49m22.2.1\u001b[0m\u001b[39;49m -> \u001b[0m\u001b[32;49m22.3.1\u001b[0m\n",
      "\u001b[1m[\u001b[0m\u001b[34;49mnotice\u001b[0m\u001b[1;39;49m]\u001b[0m\u001b[39;49m To update, run: \u001b[0m\u001b[32;49mpip install --upgrade pip\u001b[0m\n"
     ]
    }
   ],
   "source": [
    "# install dependencies\n",
    "!pip install optipyzer bipython tqdm pandas biopython"
   ]
  },
  {
   "cell_type": "code",
   "execution_count": 3,
   "metadata": {},
   "outputs": [],
   "source": [
    "# read in sequences\n",
    "from Bio import SeqIO\n",
    "\n",
    "records = list(SeqIO.parse(\"inputs/keefe_szostak.fasta\", \"fasta\"))"
   ]
  },
  {
   "cell_type": "code",
   "execution_count": null,
   "metadata": {},
   "outputs": [],
   "source": [
    "import time\n",
    "from optipyzer.api import API\n",
    "from tqdm import tqdm\n",
    "\n",
    "NUM_SAMPLES = 5\n",
    "optimization_times = []\n",
    "\n",
    "SPECIES=\"human\"\n",
    "optimizer = API()\n",
    "\n",
    "# run optimization\n",
    "optimized_sequences = {}\n",
    "for _ in range(NUM_SAMPLES):\n",
    "  start = time.time()\n",
    "  for record in tqdm(records):\n",
    "    result = optimizer.optimize(\n",
    "      str(record.seq),\n",
    "      {\n",
    "        SPECIES: 1\n",
    "      },\n",
    "      seq_type=\"protein\",\n",
    "      seed=99\n",
    "    )\n",
    "    optimized_sequences[record.id] = result\n",
    "  end = time.time()\n",
    "  optimization_times.append(end - start)\n",
    "\n",
    "# print results\n",
    "print(\"Average time to optimize: {} seconds\".format(sum(optimization_times) / len(optimization_times)))"
   ]
  },
  {
   "cell_type": "code",
   "execution_count": 6,
   "metadata": {},
   "outputs": [
    {
     "name": "stdout",
     "output_type": "stream",
     "text": [
      "[101.56162810325623, 106.98994612693787, 133.95217776298523, 93.40713691711426, 83.43699097633362]\n"
     ]
    }
   ],
   "source": [
    "print(optimization_times)"
   ]
  }
 ],
 "metadata": {
  "kernelspec": {
   "display_name": ".venv",
   "language": "python",
   "name": "python3"
  },
  "language_info": {
   "codemirror_mode": {
    "name": "ipython",
    "version": 3
   },
   "file_extension": ".py",
   "mimetype": "text/x-python",
   "name": "python",
   "nbconvert_exporter": "python",
   "pygments_lexer": "ipython3",
   "version": "3.10.6"
  },
  "orig_nbformat": 4,
  "vscode": {
   "interpreter": {
    "hash": "e893b79b4ec768329d9fdfea89da451e46cf5420422538704ef46f1ed53e5568"
   }
  }
 },
 "nbformat": 4,
 "nbformat_minor": 2
}
